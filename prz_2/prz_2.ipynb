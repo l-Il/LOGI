{
  "nbformat": 4,
  "nbformat_minor": 0,
  "metadata": {
    "colab": {
      "provenance": [],
      "toc_visible": true
    },
    "kernelspec": {
      "name": "python3",
      "display_name": "Python 3"
    },
    "language_info": {
      "name": "python"
    }
  },
  "cells": [
    {
      "cell_type": "markdown",
      "source": [
        "# Практическая работа №2\n",
        "## Чурсинов Герман Сергеевич ББМО-01-23\n",
        "\n",
        "Ноутбук .ipynb доступен в среде Google Colab по ссылке: https://colab.research.google.com/drive/1s9KC9BUPW7vCVo2FXGP90WVqvW1sFFYH?usp=sharing"
      ],
      "metadata": {
        "id": "lYa4S9GeUaXm"
      }
    },
    {
      "cell_type": "markdown",
      "source": [
        "### Выбор варианта\n",
        "![](https://i.imgur.com/JYk3e4f.png)"
      ],
      "metadata": {
        "id": "1XHIetfLWGEp"
      }
    },
    {
      "cell_type": "code",
      "execution_count": 1,
      "metadata": {
        "colab": {
          "base_uri": "https://localhost:8080/"
        },
        "id": "gKszgvdDUZd8",
        "outputId": "01b3abfc-62f9-45a9-c350-1326262dc5fd"
      },
      "outputs": [
        {
          "output_type": "stream",
          "name": "stdout",
          "text": [
            "Вариант №11\n"
          ]
        }
      ],
      "source": [
        "variant = 26 % 16 + 1\n",
        "print(f\"Вариант №{variant}\")"
      ]
    },
    {
      "cell_type": "markdown",
      "source": [
        "11. OpenStack\n",
        "\n"
      ],
      "metadata": {
        "id": "YIUnDhxvV_S1"
      }
    },
    {
      "cell_type": "markdown",
      "source": [
        "### Подключение библиотек\n",
        "\n"
      ],
      "metadata": {
        "id": "AO3OXJ-aVvaS"
      }
    },
    {
      "cell_type": "code",
      "source": [
        "# Библиотека для использования регулярных выражений\n",
        "import re\n",
        "# Библиотека для работы с классом времени\n",
        "from datetime import datetime\n",
        "# Библиотека для использования базы данных SQLite\n",
        "import sqlite3\n",
        "# Библиотека для удобной работы с табличными данными\n",
        "import pandas as pd\n",
        "# Библиотека для удобной визуализации данных\n",
        "import matplotlib.pyplot as plt\n",
        "import matplotlib.dates as plt_dts"
      ],
      "metadata": {
        "id": "e440qGKidULf"
      },
      "execution_count": 2,
      "outputs": []
    },
    {
      "cell_type": "markdown",
      "source": [
        "### Установка и открытие лог-файла\n"
      ],
      "metadata": {
        "id": "mpr8MQsUbIz5"
      }
    },
    {
      "cell_type": "code",
      "source": [
        "# Скопируем репозиторий с github\n",
        "!git clone https://github.com/logpai/loghub.git"
      ],
      "metadata": {
        "colab": {
          "base_uri": "https://localhost:8080/"
        },
        "id": "abRMhi7aceHC",
        "outputId": "9bfd3b1a-0955-45e0-8678-0e7423dbdfca"
      },
      "execution_count": 3,
      "outputs": [
        {
          "output_type": "stream",
          "name": "stdout",
          "text": [
            "Cloning into 'loghub'...\n",
            "remote: Enumerating objects: 575, done.\u001b[K\n",
            "remote: Counting objects: 100% (171/171), done.\u001b[K\n",
            "remote: Compressing objects: 100% (39/39), done.\u001b[K\n",
            "remote: Total 575 (delta 145), reused 135 (delta 132), pack-reused 404 (from 1)\u001b[K\n",
            "Receiving objects: 100% (575/575), 7.27 MiB | 10.47 MiB/s, done.\n",
            "Resolving deltas: 100% (267/267), done.\n"
          ]
        }
      ]
    },
    {
      "cell_type": "code",
      "source": [
        "# Откроем файл и выведем его содержимое (Первые 10 строк)\n",
        "with open('/content/loghub/OpenStack/OpenStack_2k.log', 'r') as file:\n",
        "  openstack_logs = file.readlines()\n",
        "for log in openstack_logs[:10]:\n",
        "  print(log.replace('\\n', ''))"
      ],
      "metadata": {
        "colab": {
          "base_uri": "https://localhost:8080/"
        },
        "id": "AtxLsQkbduT-",
        "outputId": "e03f7a8b-55cf-4c92-f4c5-28f392b9dfa7"
      },
      "execution_count": 7,
      "outputs": [
        {
          "output_type": "stream",
          "name": "stdout",
          "text": [
            "nova-api.log.1.2017-05-16_13:53:08 2017-05-16 00:00:00.008 25746 INFO nova.osapi_compute.wsgi.server [req-38101a0b-2096-447d-96ea-a692162415ae 113d3a99c3da401fbd62cc2caa5b96d2 54fadb412c4e40cdbaed9335e4c35a9e - - -] 10.11.10.1 \"GET /v2/54fadb412c4e40cdbaed9335e4c35a9e/servers/detail HTTP/1.1\" status: 200 len: 1893 time: 0.2477829\n",
            "nova-api.log.1.2017-05-16_13:53:08 2017-05-16 00:00:00.272 25746 INFO nova.osapi_compute.wsgi.server [req-9bc36dd9-91c5-4314-898a-47625eb93b09 113d3a99c3da401fbd62cc2caa5b96d2 54fadb412c4e40cdbaed9335e4c35a9e - - -] 10.11.10.1 \"GET /v2/54fadb412c4e40cdbaed9335e4c35a9e/servers/detail HTTP/1.1\" status: 200 len: 1893 time: 0.2577181\n",
            "nova-api.log.1.2017-05-16_13:53:08 2017-05-16 00:00:01.551 25746 INFO nova.osapi_compute.wsgi.server [req-55db2d8d-cdb7-4b4b-993b-429be84c0c3e 113d3a99c3da401fbd62cc2caa5b96d2 54fadb412c4e40cdbaed9335e4c35a9e - - -] 10.11.10.1 \"GET /v2/54fadb412c4e40cdbaed9335e4c35a9e/servers/detail HTTP/1.1\" status: 200 len: 1893 time: 0.2731631\n",
            "nova-api.log.1.2017-05-16_13:53:08 2017-05-16 00:00:01.813 25746 INFO nova.osapi_compute.wsgi.server [req-2a3dc421-6604-42a7-9390-a18dc824d5d6 113d3a99c3da401fbd62cc2caa5b96d2 54fadb412c4e40cdbaed9335e4c35a9e - - -] 10.11.10.1 \"GET /v2/54fadb412c4e40cdbaed9335e4c35a9e/servers/detail HTTP/1.1\" status: 200 len: 1893 time: 0.2580249\n",
            "nova-api.log.1.2017-05-16_13:53:08 2017-05-16 00:00:03.091 25746 INFO nova.osapi_compute.wsgi.server [req-939eb332-c1c1-4e67-99b8-8695f8f1980a 113d3a99c3da401fbd62cc2caa5b96d2 54fadb412c4e40cdbaed9335e4c35a9e - - -] 10.11.10.1 \"GET /v2/54fadb412c4e40cdbaed9335e4c35a9e/servers/detail HTTP/1.1\" status: 200 len: 1893 time: 0.2727931\n",
            "nova-api.log.1.2017-05-16_13:53:08 2017-05-16 00:00:03.358 25746 INFO nova.osapi_compute.wsgi.server [req-b6a4fa91-7414-432a-b725-52b5613d3ca3 113d3a99c3da401fbd62cc2caa5b96d2 54fadb412c4e40cdbaed9335e4c35a9e - - -] 10.11.10.1 \"GET /v2/54fadb412c4e40cdbaed9335e4c35a9e/servers/detail HTTP/1.1\" status: 200 len: 1893 time: 0.2642131\n",
            "nova-compute.log.1.2017-05-16_13:55:31 2017-05-16 00:00:04.500 2931 INFO nova.compute.manager [req-3ea4052c-895d-4b64-9e2d-04d64c4d94ab - - - - -] [instance: b9000564-fe1a-409b-b8cc-1e88b294cd1d] VM Started (Lifecycle Event)\n",
            "nova-compute.log.1.2017-05-16_13:55:31 2017-05-16 00:00:04.562 2931 INFO nova.compute.manager [req-3ea4052c-895d-4b64-9e2d-04d64c4d94ab - - - - -] [instance: b9000564-fe1a-409b-b8cc-1e88b294cd1d] VM Paused (Lifecycle Event)\n",
            "nova-compute.log.1.2017-05-16_13:55:31 2017-05-16 00:00:04.693 2931 INFO nova.compute.manager [req-3ea4052c-895d-4b64-9e2d-04d64c4d94ab - - - - -] [instance: b9000564-fe1a-409b-b8cc-1e88b294cd1d] During sync_power_state the instance has a pending task (spawning). Skip.\n",
            "nova-api.log.1.2017-05-16_13:53:08 2017-05-16 00:00:04.789 25746 INFO nova.osapi_compute.wsgi.server [req-bbfc3fb8-7cb3-4ac8-801e-c893d1082762 113d3a99c3da401fbd62cc2caa5b96d2 54fadb412c4e40cdbaed9335e4c35a9e - - -] 10.11.10.1 \"GET /v2/54fadb412c4e40cdbaed9335e4c35a9e/servers/detail HTTP/1.1\" status: 200 len: 1893 time: 0.4256971\n"
          ]
        }
      ]
    },
    {
      "cell_type": "markdown",
      "source": [
        "Отдельная запись выглядит следующим образом:"
      ],
      "metadata": {
        "id": "1ZG-zonLMOad"
      }
    },
    {
      "cell_type": "code",
      "source": [
        "# nova-api.log.1.2017-05-16_13:53:08 2017-05-16 00:00:00.008 25746 INFO nova.osapi_compute.wsgi.server [req-38101a0b-2096-447d-96ea-a692162415ae 113d3a99c3da401fbd62cc2caa5b96d2 54fadb412c4e40cdbaed9335e4c35a9e - - -] 10.11.10.1 \"GET /v2/54fadb412c4e40cdbaed9335e4c35a9e/servers/detail HTTP/1.1\" status: 200 len: 1893 time: 0.2477829"
      ],
      "metadata": {
        "id": "mX7yVkMtMOCz"
      },
      "execution_count": null,
      "outputs": []
    },
    {
      "cell_type": "markdown",
      "source": [
        "Структура следующая:\n",
        "* **Запись в лог** (в данном случае nova-api.log.1.2017-05-16_13:53:08)\n",
        "* **Дата** (в данном случае 2017-05-16)\n",
        "* **Время** (в данном случае 00:00:00.008)\n",
        "* **PID** (в данном случае 25746)\n",
        "* **Уровень логирования** (в данном случае INFO)\n",
        "* **Компонент** (в данном случае nova.osapi_compute.wsgi.server)\n",
        "* **Адрес** (в данном случае [req-38101a0b-2096-447d-96ea-a692162415ae 113d3a99c3da401fbd62cc2caa5b96d2 54fadb412c4e40cdbaed9335e4c35a9e - - -])\n",
        "* **Содержимое** (в данном случае 10.11.10.1 \"GET /v2/54fadb412c4e40cdbaed9335e4c35a9e/servers/detail HTTP/1.1\" status: 200 len: 1893 time: 0.2477829)"
      ],
      "metadata": {
        "id": "pvcZIDoVMcxC"
      }
    },
    {
      "cell_type": "markdown",
      "source": [
        "### Парсинг лог-файла"
      ],
      "metadata": {
        "id": "8W-jpJiiOqTv"
      }
    },
    {
      "cell_type": "code",
      "source": [
        "pattern = re.compile(r'(.*?)\\s(\\d\\d\\d\\d-\\d\\d-\\d\\d)\\s(\\d\\d:\\d\\d:\\d\\d\\.\\d\\d\\d)\\s(\\d{0,})\\s(\\w{0,})\\s(.*?)\\s\\[(.*?)\\]\\s(.*)')\n",
        "\n",
        "a = []\n",
        "for log in openstack_logs:\n",
        "  matches = re.match(pattern, log)\n",
        "  if matches:\n",
        "    a.append([matches.group(1), matches.group(2), matches.group(3), matches.group(4), matches.group(5), matches.group(6), matches.group(7), matches.group(8).replace('\"', \"'\")])"
      ],
      "metadata": {
        "id": "ZKcCP5A0Oh6H"
      },
      "execution_count": 29,
      "outputs": []
    },
    {
      "cell_type": "markdown",
      "source": [
        "### Сохранение каждой записи в СУБД"
      ],
      "metadata": {
        "id": "H9IO1O1tZsNr"
      }
    },
    {
      "cell_type": "code",
      "source": [
        "# Создание СУБД\n",
        "connection = sqlite3.connect('logs.db')\n",
        "cursor = connection.cursor()\n",
        "cursor.execute(\"DROP TABLE IF EXISTS logs\")\n",
        "cursor.execute(\"CREATE TABLE logs (id INTEGER PRIMARY KEY AUTOINCREMENT, logrecord VARCHAR(255), date DATE, time TIME, pid INT, level VARCHAR(50), component VARCHAR(255), addr VARCHAR(255), content TEXT)\")\n",
        "\n",
        "# Внесение данных в СУБД\n",
        "for _ in a:\n",
        "  query = f'INSERT INTO logs (logrecord, date, time, pid, level, component, addr, content) VALUES (\"{_[0]}\", \"{_[1]}\", \"{_[2]}\", {_[3]}, \"{_[4]}\", \"{_[5]}\", \"{_[6]}\", \"{_[7]}\")'\n",
        "  try:\n",
        "    cursor.execute(query)\n",
        "  except:\n",
        "    print(query)\n",
        "\n",
        "# Закрытие СУБД\n",
        "connection.commit()\n",
        "cursor.close()\n",
        "connection.close()\n",
        "\n",
        "# Открытие СУБД\n",
        "connection = sqlite3.connect('logs.db')\n",
        "cursor = connection.cursor()\n",
        "cursor.execute(\"SELECT * FROM logs\")\n",
        "data = cursor.fetchall()\n",
        "cursor.close()\n",
        "connection.close()\n",
        "pd_data = pd.DataFrame(data, columns=(\"ID\", \"Запись\", \"Дата\", \"Время\", \"PID\", \"Уровень логирования\", \"Компонент\", \"Адрес\", \"Содержание\"))\n",
        "pd_data"
      ],
      "metadata": {
        "colab": {
          "base_uri": "https://localhost:8080/",
          "height": 2091
        },
        "id": "viQOhgmXlmGZ",
        "outputId": "5c353ca7-017d-4d12-a72f-2118d94ea737"
      },
      "execution_count": 32,
      "outputs": [
        {
          "output_type": "execute_result",
          "data": {
            "text/plain": [
              "        ID                                  Запись        Дата         Время  \\\n",
              "0        1      nova-api.log.1.2017-05-16_13:53:08  2017-05-16  00:00:00.008   \n",
              "1        2      nova-api.log.1.2017-05-16_13:53:08  2017-05-16  00:00:00.272   \n",
              "2        3      nova-api.log.1.2017-05-16_13:53:08  2017-05-16  00:00:01.551   \n",
              "3        4      nova-api.log.1.2017-05-16_13:53:08  2017-05-16  00:00:01.813   \n",
              "4        5      nova-api.log.1.2017-05-16_13:53:08  2017-05-16  00:00:03.091   \n",
              "...    ...                                     ...         ...           ...   \n",
              "1995  1996      nova-api.log.1.2017-05-16_13:53:08  2017-05-16  00:14:47.410   \n",
              "1996  1997  nova-compute.log.1.2017-05-16_13:55:31  2017-05-16  00:14:47.447   \n",
              "1997  1998      nova-api.log.1.2017-05-16_13:53:08  2017-05-16  00:14:47.652   \n",
              "1998  1999  nova-compute.log.1.2017-05-16_13:55:31  2017-05-16  00:14:47.663   \n",
              "1999  2000      nova-api.log.1.2017-05-16_13:53:08  2017-05-16  00:14:47.687   \n",
              "\n",
              "        PID Уровень логирования                       Компонент  \\\n",
              "0     25746                INFO  nova.osapi_compute.wsgi.server   \n",
              "1     25746                INFO  nova.osapi_compute.wsgi.server   \n",
              "2     25746                INFO  nova.osapi_compute.wsgi.server   \n",
              "3     25746                INFO  nova.osapi_compute.wsgi.server   \n",
              "4     25746                INFO  nova.osapi_compute.wsgi.server   \n",
              "...     ...                 ...                             ...   \n",
              "1995  25746                INFO  nova.osapi_compute.wsgi.server   \n",
              "1996   2931                INFO            nova.compute.manager   \n",
              "1997  25799                INFO       nova.metadata.wsgi.server   \n",
              "1998   2931                INFO        nova.virt.libvirt.driver   \n",
              "1999  25746                INFO  nova.osapi_compute.wsgi.server   \n",
              "\n",
              "                                                  Адрес  \\\n",
              "0     req-38101a0b-2096-447d-96ea-a692162415ae 113d3...   \n",
              "1     req-9bc36dd9-91c5-4314-898a-47625eb93b09 113d3...   \n",
              "2     req-55db2d8d-cdb7-4b4b-993b-429be84c0c3e 113d3...   \n",
              "3     req-2a3dc421-6604-42a7-9390-a18dc824d5d6 113d3...   \n",
              "4     req-939eb332-c1c1-4e67-99b8-8695f8f1980a 113d3...   \n",
              "...                                                 ...   \n",
              "1995  req-699eeadf-6db8-44a4-8521-1ab4e8a53b53 113d3...   \n",
              "1996  req-699eeadf-6db8-44a4-8521-1ab4e8a53b53 113d3...   \n",
              "1997  req-e5e061d6-f2aa-464b-9512-2fd6c7c9a812 - - -...   \n",
              "1998                                                  -   \n",
              "1999  req-dd237280-5bc8-41cb-a035-26c8e64d49fc 113d3...   \n",
              "\n",
              "                                             Содержание  \n",
              "0     10.11.10.1 'GET /v2/54fadb412c4e40cdbaed9335e4...  \n",
              "1     10.11.10.1 'GET /v2/54fadb412c4e40cdbaed9335e4...  \n",
              "2     10.11.10.1 'GET /v2/54fadb412c4e40cdbaed9335e4...  \n",
              "3     10.11.10.1 'GET /v2/54fadb412c4e40cdbaed9335e4...  \n",
              "4     10.11.10.1 'GET /v2/54fadb412c4e40cdbaed9335e4...  \n",
              "...                                                 ...  \n",
              "1995  10.11.10.1 'DELETE /v2/54fadb412c4e40cdbaed933...  \n",
              "1996  [instance: faf974ea-cba5-4e1b-93f4-3a3bc606006...  \n",
              "1997  10.11.21.143,10.11.10.1 'GET /latest/meta-data...  \n",
              "1998  [instance: faf974ea-cba5-4e1b-93f4-3a3bc606006...  \n",
              "1999  10.11.10.1 'GET /v2/54fadb412c4e40cdbaed9335e4...  \n",
              "\n",
              "[2000 rows x 9 columns]"
            ],
            "text/html": [
              "\n",
              "  <div id=\"df-3a847bf5-ba05-4ad0-af3f-e8ff7a57239b\" class=\"colab-df-container\">\n",
              "    <div>\n",
              "<style scoped>\n",
              "    .dataframe tbody tr th:only-of-type {\n",
              "        vertical-align: middle;\n",
              "    }\n",
              "\n",
              "    .dataframe tbody tr th {\n",
              "        vertical-align: top;\n",
              "    }\n",
              "\n",
              "    .dataframe thead th {\n",
              "        text-align: right;\n",
              "    }\n",
              "</style>\n",
              "<table border=\"1\" class=\"dataframe\">\n",
              "  <thead>\n",
              "    <tr style=\"text-align: right;\">\n",
              "      <th></th>\n",
              "      <th>ID</th>\n",
              "      <th>Запись</th>\n",
              "      <th>Дата</th>\n",
              "      <th>Время</th>\n",
              "      <th>PID</th>\n",
              "      <th>Уровень логирования</th>\n",
              "      <th>Компонент</th>\n",
              "      <th>Адрес</th>\n",
              "      <th>Содержание</th>\n",
              "    </tr>\n",
              "  </thead>\n",
              "  <tbody>\n",
              "    <tr>\n",
              "      <th>0</th>\n",
              "      <td>1</td>\n",
              "      <td>nova-api.log.1.2017-05-16_13:53:08</td>\n",
              "      <td>2017-05-16</td>\n",
              "      <td>00:00:00.008</td>\n",
              "      <td>25746</td>\n",
              "      <td>INFO</td>\n",
              "      <td>nova.osapi_compute.wsgi.server</td>\n",
              "      <td>req-38101a0b-2096-447d-96ea-a692162415ae 113d3...</td>\n",
              "      <td>10.11.10.1 'GET /v2/54fadb412c4e40cdbaed9335e4...</td>\n",
              "    </tr>\n",
              "    <tr>\n",
              "      <th>1</th>\n",
              "      <td>2</td>\n",
              "      <td>nova-api.log.1.2017-05-16_13:53:08</td>\n",
              "      <td>2017-05-16</td>\n",
              "      <td>00:00:00.272</td>\n",
              "      <td>25746</td>\n",
              "      <td>INFO</td>\n",
              "      <td>nova.osapi_compute.wsgi.server</td>\n",
              "      <td>req-9bc36dd9-91c5-4314-898a-47625eb93b09 113d3...</td>\n",
              "      <td>10.11.10.1 'GET /v2/54fadb412c4e40cdbaed9335e4...</td>\n",
              "    </tr>\n",
              "    <tr>\n",
              "      <th>2</th>\n",
              "      <td>3</td>\n",
              "      <td>nova-api.log.1.2017-05-16_13:53:08</td>\n",
              "      <td>2017-05-16</td>\n",
              "      <td>00:00:01.551</td>\n",
              "      <td>25746</td>\n",
              "      <td>INFO</td>\n",
              "      <td>nova.osapi_compute.wsgi.server</td>\n",
              "      <td>req-55db2d8d-cdb7-4b4b-993b-429be84c0c3e 113d3...</td>\n",
              "      <td>10.11.10.1 'GET /v2/54fadb412c4e40cdbaed9335e4...</td>\n",
              "    </tr>\n",
              "    <tr>\n",
              "      <th>3</th>\n",
              "      <td>4</td>\n",
              "      <td>nova-api.log.1.2017-05-16_13:53:08</td>\n",
              "      <td>2017-05-16</td>\n",
              "      <td>00:00:01.813</td>\n",
              "      <td>25746</td>\n",
              "      <td>INFO</td>\n",
              "      <td>nova.osapi_compute.wsgi.server</td>\n",
              "      <td>req-2a3dc421-6604-42a7-9390-a18dc824d5d6 113d3...</td>\n",
              "      <td>10.11.10.1 'GET /v2/54fadb412c4e40cdbaed9335e4...</td>\n",
              "    </tr>\n",
              "    <tr>\n",
              "      <th>4</th>\n",
              "      <td>5</td>\n",
              "      <td>nova-api.log.1.2017-05-16_13:53:08</td>\n",
              "      <td>2017-05-16</td>\n",
              "      <td>00:00:03.091</td>\n",
              "      <td>25746</td>\n",
              "      <td>INFO</td>\n",
              "      <td>nova.osapi_compute.wsgi.server</td>\n",
              "      <td>req-939eb332-c1c1-4e67-99b8-8695f8f1980a 113d3...</td>\n",
              "      <td>10.11.10.1 'GET /v2/54fadb412c4e40cdbaed9335e4...</td>\n",
              "    </tr>\n",
              "    <tr>\n",
              "      <th>...</th>\n",
              "      <td>...</td>\n",
              "      <td>...</td>\n",
              "      <td>...</td>\n",
              "      <td>...</td>\n",
              "      <td>...</td>\n",
              "      <td>...</td>\n",
              "      <td>...</td>\n",
              "      <td>...</td>\n",
              "      <td>...</td>\n",
              "    </tr>\n",
              "    <tr>\n",
              "      <th>1995</th>\n",
              "      <td>1996</td>\n",
              "      <td>nova-api.log.1.2017-05-16_13:53:08</td>\n",
              "      <td>2017-05-16</td>\n",
              "      <td>00:14:47.410</td>\n",
              "      <td>25746</td>\n",
              "      <td>INFO</td>\n",
              "      <td>nova.osapi_compute.wsgi.server</td>\n",
              "      <td>req-699eeadf-6db8-44a4-8521-1ab4e8a53b53 113d3...</td>\n",
              "      <td>10.11.10.1 'DELETE /v2/54fadb412c4e40cdbaed933...</td>\n",
              "    </tr>\n",
              "    <tr>\n",
              "      <th>1996</th>\n",
              "      <td>1997</td>\n",
              "      <td>nova-compute.log.1.2017-05-16_13:55:31</td>\n",
              "      <td>2017-05-16</td>\n",
              "      <td>00:14:47.447</td>\n",
              "      <td>2931</td>\n",
              "      <td>INFO</td>\n",
              "      <td>nova.compute.manager</td>\n",
              "      <td>req-699eeadf-6db8-44a4-8521-1ab4e8a53b53 113d3...</td>\n",
              "      <td>[instance: faf974ea-cba5-4e1b-93f4-3a3bc606006...</td>\n",
              "    </tr>\n",
              "    <tr>\n",
              "      <th>1997</th>\n",
              "      <td>1998</td>\n",
              "      <td>nova-api.log.1.2017-05-16_13:53:08</td>\n",
              "      <td>2017-05-16</td>\n",
              "      <td>00:14:47.652</td>\n",
              "      <td>25799</td>\n",
              "      <td>INFO</td>\n",
              "      <td>nova.metadata.wsgi.server</td>\n",
              "      <td>req-e5e061d6-f2aa-464b-9512-2fd6c7c9a812 - - -...</td>\n",
              "      <td>10.11.21.143,10.11.10.1 'GET /latest/meta-data...</td>\n",
              "    </tr>\n",
              "    <tr>\n",
              "      <th>1998</th>\n",
              "      <td>1999</td>\n",
              "      <td>nova-compute.log.1.2017-05-16_13:55:31</td>\n",
              "      <td>2017-05-16</td>\n",
              "      <td>00:14:47.663</td>\n",
              "      <td>2931</td>\n",
              "      <td>INFO</td>\n",
              "      <td>nova.virt.libvirt.driver</td>\n",
              "      <td>-</td>\n",
              "      <td>[instance: faf974ea-cba5-4e1b-93f4-3a3bc606006...</td>\n",
              "    </tr>\n",
              "    <tr>\n",
              "      <th>1999</th>\n",
              "      <td>2000</td>\n",
              "      <td>nova-api.log.1.2017-05-16_13:53:08</td>\n",
              "      <td>2017-05-16</td>\n",
              "      <td>00:14:47.687</td>\n",
              "      <td>25746</td>\n",
              "      <td>INFO</td>\n",
              "      <td>nova.osapi_compute.wsgi.server</td>\n",
              "      <td>req-dd237280-5bc8-41cb-a035-26c8e64d49fc 113d3...</td>\n",
              "      <td>10.11.10.1 'GET /v2/54fadb412c4e40cdbaed9335e4...</td>\n",
              "    </tr>\n",
              "  </tbody>\n",
              "</table>\n",
              "<p>2000 rows × 9 columns</p>\n",
              "</div>\n",
              "    <div class=\"colab-df-buttons\">\n",
              "\n",
              "  <div class=\"colab-df-container\">\n",
              "    <button class=\"colab-df-convert\" onclick=\"convertToInteractive('df-3a847bf5-ba05-4ad0-af3f-e8ff7a57239b')\"\n",
              "            title=\"Convert this dataframe to an interactive table.\"\n",
              "            style=\"display:none;\">\n",
              "\n",
              "  <svg xmlns=\"http://www.w3.org/2000/svg\" height=\"24px\" viewBox=\"0 -960 960 960\">\n",
              "    <path d=\"M120-120v-720h720v720H120Zm60-500h600v-160H180v160Zm220 220h160v-160H400v160Zm0 220h160v-160H400v160ZM180-400h160v-160H180v160Zm440 0h160v-160H620v160ZM180-180h160v-160H180v160Zm440 0h160v-160H620v160Z\"/>\n",
              "  </svg>\n",
              "    </button>\n",
              "\n",
              "  <style>\n",
              "    .colab-df-container {\n",
              "      display:flex;\n",
              "      gap: 12px;\n",
              "    }\n",
              "\n",
              "    .colab-df-convert {\n",
              "      background-color: #E8F0FE;\n",
              "      border: none;\n",
              "      border-radius: 50%;\n",
              "      cursor: pointer;\n",
              "      display: none;\n",
              "      fill: #1967D2;\n",
              "      height: 32px;\n",
              "      padding: 0 0 0 0;\n",
              "      width: 32px;\n",
              "    }\n",
              "\n",
              "    .colab-df-convert:hover {\n",
              "      background-color: #E2EBFA;\n",
              "      box-shadow: 0px 1px 2px rgba(60, 64, 67, 0.3), 0px 1px 3px 1px rgba(60, 64, 67, 0.15);\n",
              "      fill: #174EA6;\n",
              "    }\n",
              "\n",
              "    .colab-df-buttons div {\n",
              "      margin-bottom: 4px;\n",
              "    }\n",
              "\n",
              "    [theme=dark] .colab-df-convert {\n",
              "      background-color: #3B4455;\n",
              "      fill: #D2E3FC;\n",
              "    }\n",
              "\n",
              "    [theme=dark] .colab-df-convert:hover {\n",
              "      background-color: #434B5C;\n",
              "      box-shadow: 0px 1px 3px 1px rgba(0, 0, 0, 0.15);\n",
              "      filter: drop-shadow(0px 1px 2px rgba(0, 0, 0, 0.3));\n",
              "      fill: #FFFFFF;\n",
              "    }\n",
              "  </style>\n",
              "\n",
              "    <script>\n",
              "      const buttonEl =\n",
              "        document.querySelector('#df-3a847bf5-ba05-4ad0-af3f-e8ff7a57239b button.colab-df-convert');\n",
              "      buttonEl.style.display =\n",
              "        google.colab.kernel.accessAllowed ? 'block' : 'none';\n",
              "\n",
              "      async function convertToInteractive(key) {\n",
              "        const element = document.querySelector('#df-3a847bf5-ba05-4ad0-af3f-e8ff7a57239b');\n",
              "        const dataTable =\n",
              "          await google.colab.kernel.invokeFunction('convertToInteractive',\n",
              "                                                    [key], {});\n",
              "        if (!dataTable) return;\n",
              "\n",
              "        const docLinkHtml = 'Like what you see? Visit the ' +\n",
              "          '<a target=\"_blank\" href=https://colab.research.google.com/notebooks/data_table.ipynb>data table notebook</a>'\n",
              "          + ' to learn more about interactive tables.';\n",
              "        element.innerHTML = '';\n",
              "        dataTable['output_type'] = 'display_data';\n",
              "        await google.colab.output.renderOutput(dataTable, element);\n",
              "        const docLink = document.createElement('div');\n",
              "        docLink.innerHTML = docLinkHtml;\n",
              "        element.appendChild(docLink);\n",
              "      }\n",
              "    </script>\n",
              "  </div>\n",
              "\n",
              "\n",
              "<div id=\"df-16447361-9c66-4bb1-88f9-bdb1501f8dad\">\n",
              "  <button class=\"colab-df-quickchart\" onclick=\"quickchart('df-16447361-9c66-4bb1-88f9-bdb1501f8dad')\"\n",
              "            title=\"Suggest charts\"\n",
              "            style=\"display:none;\">\n",
              "\n",
              "<svg xmlns=\"http://www.w3.org/2000/svg\" height=\"24px\"viewBox=\"0 0 24 24\"\n",
              "     width=\"24px\">\n",
              "    <g>\n",
              "        <path d=\"M19 3H5c-1.1 0-2 .9-2 2v14c0 1.1.9 2 2 2h14c1.1 0 2-.9 2-2V5c0-1.1-.9-2-2-2zM9 17H7v-7h2v7zm4 0h-2V7h2v10zm4 0h-2v-4h2v4z\"/>\n",
              "    </g>\n",
              "</svg>\n",
              "  </button>\n",
              "\n",
              "<style>\n",
              "  .colab-df-quickchart {\n",
              "      --bg-color: #E8F0FE;\n",
              "      --fill-color: #1967D2;\n",
              "      --hover-bg-color: #E2EBFA;\n",
              "      --hover-fill-color: #174EA6;\n",
              "      --disabled-fill-color: #AAA;\n",
              "      --disabled-bg-color: #DDD;\n",
              "  }\n",
              "\n",
              "  [theme=dark] .colab-df-quickchart {\n",
              "      --bg-color: #3B4455;\n",
              "      --fill-color: #D2E3FC;\n",
              "      --hover-bg-color: #434B5C;\n",
              "      --hover-fill-color: #FFFFFF;\n",
              "      --disabled-bg-color: #3B4455;\n",
              "      --disabled-fill-color: #666;\n",
              "  }\n",
              "\n",
              "  .colab-df-quickchart {\n",
              "    background-color: var(--bg-color);\n",
              "    border: none;\n",
              "    border-radius: 50%;\n",
              "    cursor: pointer;\n",
              "    display: none;\n",
              "    fill: var(--fill-color);\n",
              "    height: 32px;\n",
              "    padding: 0;\n",
              "    width: 32px;\n",
              "  }\n",
              "\n",
              "  .colab-df-quickchart:hover {\n",
              "    background-color: var(--hover-bg-color);\n",
              "    box-shadow: 0 1px 2px rgba(60, 64, 67, 0.3), 0 1px 3px 1px rgba(60, 64, 67, 0.15);\n",
              "    fill: var(--button-hover-fill-color);\n",
              "  }\n",
              "\n",
              "  .colab-df-quickchart-complete:disabled,\n",
              "  .colab-df-quickchart-complete:disabled:hover {\n",
              "    background-color: var(--disabled-bg-color);\n",
              "    fill: var(--disabled-fill-color);\n",
              "    box-shadow: none;\n",
              "  }\n",
              "\n",
              "  .colab-df-spinner {\n",
              "    border: 2px solid var(--fill-color);\n",
              "    border-color: transparent;\n",
              "    border-bottom-color: var(--fill-color);\n",
              "    animation:\n",
              "      spin 1s steps(1) infinite;\n",
              "  }\n",
              "\n",
              "  @keyframes spin {\n",
              "    0% {\n",
              "      border-color: transparent;\n",
              "      border-bottom-color: var(--fill-color);\n",
              "      border-left-color: var(--fill-color);\n",
              "    }\n",
              "    20% {\n",
              "      border-color: transparent;\n",
              "      border-left-color: var(--fill-color);\n",
              "      border-top-color: var(--fill-color);\n",
              "    }\n",
              "    30% {\n",
              "      border-color: transparent;\n",
              "      border-left-color: var(--fill-color);\n",
              "      border-top-color: var(--fill-color);\n",
              "      border-right-color: var(--fill-color);\n",
              "    }\n",
              "    40% {\n",
              "      border-color: transparent;\n",
              "      border-right-color: var(--fill-color);\n",
              "      border-top-color: var(--fill-color);\n",
              "    }\n",
              "    60% {\n",
              "      border-color: transparent;\n",
              "      border-right-color: var(--fill-color);\n",
              "    }\n",
              "    80% {\n",
              "      border-color: transparent;\n",
              "      border-right-color: var(--fill-color);\n",
              "      border-bottom-color: var(--fill-color);\n",
              "    }\n",
              "    90% {\n",
              "      border-color: transparent;\n",
              "      border-bottom-color: var(--fill-color);\n",
              "    }\n",
              "  }\n",
              "</style>\n",
              "\n",
              "  <script>\n",
              "    async function quickchart(key) {\n",
              "      const quickchartButtonEl =\n",
              "        document.querySelector('#' + key + ' button');\n",
              "      quickchartButtonEl.disabled = true;  // To prevent multiple clicks.\n",
              "      quickchartButtonEl.classList.add('colab-df-spinner');\n",
              "      try {\n",
              "        const charts = await google.colab.kernel.invokeFunction(\n",
              "            'suggestCharts', [key], {});\n",
              "      } catch (error) {\n",
              "        console.error('Error during call to suggestCharts:', error);\n",
              "      }\n",
              "      quickchartButtonEl.classList.remove('colab-df-spinner');\n",
              "      quickchartButtonEl.classList.add('colab-df-quickchart-complete');\n",
              "    }\n",
              "    (() => {\n",
              "      let quickchartButtonEl =\n",
              "        document.querySelector('#df-16447361-9c66-4bb1-88f9-bdb1501f8dad button');\n",
              "      quickchartButtonEl.style.display =\n",
              "        google.colab.kernel.accessAllowed ? 'block' : 'none';\n",
              "    })();\n",
              "  </script>\n",
              "</div>\n",
              "    </div>\n",
              "  </div>\n"
            ],
            "application/vnd.google.colaboratory.intrinsic+json": {
              "type": "dataframe",
              "variable_name": "pd_data",
              "summary": "{\n  \"name\": \"pd_data\",\n  \"rows\": 2000,\n  \"fields\": [\n    {\n      \"column\": \"ID\",\n      \"properties\": {\n        \"dtype\": \"number\",\n        \"std\": 577,\n        \"min\": 1,\n        \"max\": 2000,\n        \"num_unique_values\": 2000,\n        \"samples\": [\n          1861,\n          354,\n          1334\n        ],\n        \"semantic_type\": \"\",\n        \"description\": \"\"\n      }\n    },\n    {\n      \"column\": \"\\u0417\\u0430\\u043f\\u0438\\u0441\\u044c\",\n      \"properties\": {\n        \"dtype\": \"category\",\n        \"num_unique_values\": 3,\n        \"samples\": [\n          \"nova-api.log.1.2017-05-16_13:53:08\",\n          \"nova-compute.log.1.2017-05-16_13:55:31\",\n          \"nova-scheduler.log.1.2017-05-16_13:53:08\"\n        ],\n        \"semantic_type\": \"\",\n        \"description\": \"\"\n      }\n    },\n    {\n      \"column\": \"\\u0414\\u0430\\u0442\\u0430\",\n      \"properties\": {\n        \"dtype\": \"object\",\n        \"num_unique_values\": 1,\n        \"samples\": [\n          \"2017-05-16\"\n        ],\n        \"semantic_type\": \"\",\n        \"description\": \"\"\n      }\n    },\n    {\n      \"column\": \"\\u0412\\u0440\\u0435\\u043c\\u044f\",\n      \"properties\": {\n        \"dtype\": \"object\",\n        \"num_unique_values\": 1933,\n        \"samples\": [\n          \"00:08:22.485\"\n        ],\n        \"semantic_type\": \"\",\n        \"description\": \"\"\n      }\n    },\n    {\n      \"column\": \"PID\",\n      \"properties\": {\n        \"dtype\": \"number\",\n        \"std\": 11389,\n        \"min\": 2931,\n        \"max\": 25998,\n        \"num_unique_values\": 22,\n        \"samples\": [\n          25746\n        ],\n        \"semantic_type\": \"\",\n        \"description\": \"\"\n      }\n    },\n    {\n      \"column\": \"\\u0423\\u0440\\u043e\\u0432\\u0435\\u043d\\u044c \\u043b\\u043e\\u0433\\u0438\\u0440\\u043e\\u0432\\u0430\\u043d\\u0438\\u044f\",\n      \"properties\": {\n        \"dtype\": \"category\",\n        \"num_unique_values\": 2,\n        \"samples\": [\n          \"WARNING\"\n        ],\n        \"semantic_type\": \"\",\n        \"description\": \"\"\n      }\n    },\n    {\n      \"column\": \"\\u041a\\u043e\\u043c\\u043f\\u043e\\u043d\\u0435\\u043d\\u0442\",\n      \"properties\": {\n        \"dtype\": \"category\",\n        \"num_unique_values\": 10,\n        \"samples\": [\n          \"nova.compute.claims\"\n        ],\n        \"semantic_type\": \"\",\n        \"description\": \"\"\n      }\n    },\n    {\n      \"column\": \"\\u0410\\u0434\\u0440\\u0435\\u0441\",\n      \"properties\": {\n        \"dtype\": \"category\",\n        \"num_unique_values\": 939,\n        \"samples\": [\n          \"req-68e17e36-b9b8-4b5d-9096-6bd81ce33bbc 113d3a99c3da401fbd62cc2caa5b96d2 54fadb412c4e40cdbaed9335e4c35a9e - - -\"\n        ],\n        \"semantic_type\": \"\",\n        \"description\": \"\"\n      }\n    },\n    {\n      \"column\": \"\\u0421\\u043e\\u0434\\u0435\\u0440\\u0436\\u0430\\u043d\\u0438\\u0435\",\n      \"properties\": {\n        \"dtype\": \"string\",\n        \"num_unique_values\": 1548,\n        \"samples\": [\n          \"Final resource view: name=cp-1.slowvm1.tcloud-pg0.utah.cloudlab.us phys_ram=64172MB used_ram=2560MB phys_disk=15GB used_disk=20GB total_vcpus=16 used_vcpus=1 pci_stats=[]\"\n        ],\n        \"semantic_type\": \"\",\n        \"description\": \"\"\n      }\n    }\n  ]\n}"
            }
          },
          "metadata": {},
          "execution_count": 32
        }
      ]
    },
    {
      "cell_type": "markdown",
      "source": [
        "### Визуализация результатов"
      ],
      "metadata": {
        "id": "VohhmiMMatR4"
      }
    },
    {
      "cell_type": "code",
      "source": [
        "# Подсчёт записей с различными уровнями логирования\n",
        "pd_data_distrib = pd_data['Уровень логирования'].value_counts()\n",
        "\n",
        "x = pd_data_distrib.keys()\n",
        "y = pd_data_distrib.values\n",
        "\n",
        "# Заголовки для графика\n",
        "verbose_xticks = [\"INFO\", \"WARNING\"]\n",
        "\n",
        "plt.xticks([0,1], verbose_xticks)\n",
        "plt.xlabel('Уровень логировния')\n",
        "plt.ylabel('Количество записей')\n",
        "plt.bar(x,y)\n",
        "plt.bar(x,y, color = ['green', 'orange'])\n",
        "\n",
        "plt.show()"
      ],
      "metadata": {
        "colab": {
          "base_uri": "https://localhost:8080/",
          "height": 449
        },
        "id": "OWbbzN9MZnW0",
        "outputId": "57c1cac3-a913-4f87-edc2-f8f5c6b7d303"
      },
      "execution_count": 35,
      "outputs": [
        {
          "output_type": "display_data",
          "data": {
            "text/plain": [
              "<Figure size 640x480 with 1 Axes>"
            ],
            "image/png": "[encoded data removed]"
          },
          "metadata": {}
        }
      ]
    },
    {
      "cell_type": "code",
      "source": [
        "# Подсчёт логирующих компонентов\n",
        "pd_data_distrib = pd_data['Компонент'].value_counts()\n",
        "\n",
        "x = pd_data_distrib.keys()\n",
        "y = pd_data_distrib.values\n",
        "\n",
        "# Заголовки для графика\n",
        "plt.xticks(rotation=90)\n",
        "plt.xlabel('Компонент')\n",
        "plt.ylabel('Количество записей')\n",
        "plt.bar(x,y)\n",
        "plt.show()\n"
      ],
      "metadata": {
        "colab": {
          "base_uri": "https://localhost:8080/",
          "height": 803
        },
        "id": "B8-K5wQ-ac3K",
        "outputId": "b1bab29b-d4a9-4524-ccff-9512631371d0"
      },
      "execution_count": 47,
      "outputs": [
        {
          "output_type": "display_data",
          "data": {
            "text/plain": [
              "<Figure size 640x480 with 1 Axes>"
            ],
            "image/png": "[encoded data removed]"
          },
          "metadata": {}
        }
      ]
    },
    {
      "cell_type": "code",
      "source": [
        "# Когда логировались записи\n",
        "copy_df = pd_data.copy()\n",
        "copy_df['Компонент'] = pd.to_datetime(copy_df['Время'])\n",
        "copy_count = copy_df.groupby('Время').size()\n",
        "\n",
        "plt.plot(copy_count.index, copy_count.values, linestyle='-', color='r')\n",
        "plt.xlabel('Время')\n",
        "plt.xticks(rotation=45)\n",
        "plt.ylabel('Количество логов')\n",
        "plt.show()"
      ],
      "metadata": {
        "colab": {
          "base_uri": "https://localhost:8080/",
          "height": 566
        },
        "id": "-dD2VwE0cBcC",
        "outputId": "557a6981-d6c1-44b2-f5c0-ef33497ff7a2"
      },
      "execution_count": 56,
      "outputs": [
        {
          "output_type": "stream",
          "name": "stderr",
          "text": [
            "<ipython-input-56-a35fff40388c>:3: UserWarning: Could not infer format, so each element will be parsed individually, falling back to `dateutil`. To ensure parsing is consistent and as-expected, please specify a format.\n",
            "  copy_df['Компонент'] = pd.to_datetime(copy_df['Время'])\n"
          ]
        },
        {
          "output_type": "display_data",
          "data": {
            "text/plain": [
              "<Figure size 640x480 with 1 Axes>"
            ],
            "image/png": "[encoded data removed]"
          },
          "metadata": {}
        }
      ]
    }
  ]
}